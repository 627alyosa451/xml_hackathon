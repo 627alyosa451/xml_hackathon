{
  "nbformat": 4,
  "nbformat_minor": 0,
  "metadata": {
    "colab": {
      "provenance": [],
      "authorship_tag": "ABX9TyMtZ137FKub/Jhcb573Vp/o",
      "include_colab_link": true
    },
    "kernelspec": {
      "name": "python3",
      "display_name": "Python 3"
    },
    "language_info": {
      "name": "python"
    }
  },
  "cells": [
    {
      "cell_type": "markdown",
      "metadata": {
        "id": "view-in-github",
        "colab_type": "text"
      },
      "source": [
        "<a href=\"https://colab.research.google.com/github/627alyosa451/xml_hackathon/blob/main/giris.ipynb\" target=\"_parent\"><img src=\"https://colab.research.google.com/assets/colab-badge.svg\" alt=\"Open In Colab\"/></a>"
      ]
    },
    {
      "cell_type": "code",
      "source": [
        "#import\n",
        "\n",
        "import xml.etree.ElementTree as ET"
      ],
      "metadata": {
        "id": "gkRir26cagjF"
      },
      "execution_count": null,
      "outputs": []
    },
    {
      "cell_type": "code",
      "source": [
        "#XML DOSYASININ TANIMLANMASI VE İÇERĞİNİN root DEĞİŞKENİNE KAYDEDİLMESİ\n",
        "tree = ET.parse('kok.xml')\n",
        "root = tree.getroot()\n"
      ],
      "metadata": {
        "id": "2r4FmZpcb5x0"
      },
      "execution_count": null,
      "outputs": []
    },
    {
      "cell_type": "code",
      "source": [
        "#KULLANICIDIDAN VERİ ALMA KISMI\n",
        "\n",
        "title = input(\"Eğitimin başlığını giriniz: \")\n",
        "sub = input(\"Eğitimle ilgili anahtar kelimeleri girin: \")\n",
        "descrip = input(\"Eğitimin açıklamasını girin: \")\n",
        "creator = input(\"Eğitimi oluşturan kişi: \")\n",
        "license = input(\"Kaynağın lisansını giriniz: \")\n",
        "lang = input(\"Eğitimin dilini giriniz: \")\n",
        "identifier= input(\"Eğitim kaynağının url adresini giriniz: \")\n",
        "\n",
        "\n",
        "# Yeni elemanlar oluştur\n",
        "new_title_element1 = ET.Element(\"a\")\n",
        "new_title_element1.text = title\n",
        "\n",
        "new_sub_element2 = ET.Element(\"a\")\n",
        "new_sub_element2.text = sub\n",
        "\n",
        "new_descrip_element3 = ET.Element(\"a\")\n",
        "new_descrip_element3.text = descrip\n",
        "\n",
        "new_creator_element4 = ET.Element(\"a\")\n",
        "new_creator_element4.text = creator\n",
        "\n",
        "new_license_element5 = ET.Element(\"a\")\n",
        "new_license_element5.text = license\n",
        "\n",
        "new_lang_element6 = ET.Element(\"a\")\n",
        "new_lang_element6.text = lang\n",
        "\n",
        "new_identifier_element7 = ET.Element(\"a\")\n",
        "new_identifier_element7.text = identifier\n"
      ],
      "metadata": {
        "colab": {
          "base_uri": "https://localhost:8080/"
        },
        "id": "Ddw51kH-cLvU",
        "outputId": "138b06a0-e25d-497b-8370-12911526fd72"
      },
      "execution_count": null,
      "outputs": [
        {
          "name": "stdout",
          "output_type": "stream",
          "text": [
            "Eğitimin başlığını giriniz: açık erişim\n",
            "Eğitimle ilgili anahtar kelimeleri girin: internet\n",
            "Eğitimin açıklamasını girin: bu ders kapsamında açık erişim yollarını öğreneceksiniz\n",
            "Eğitimi oluşturan kişi: Hacettepe\n",
            "Kaynağın lisansını giriniz: MIT\n",
            "Eğitimin dilini giriniz: Türkçe\n",
            "Eğitim kaynağının url adresini giriniz: www.acıkerisim.com\n"
          ]
        }
      ]
    },
    {
      "cell_type": "code",
      "source": [
        "#TAG AÇMA KISMI\n",
        "\n",
        "# title elemanı \"<a>\" TAGI AÇIYOR VE YENİ DEĞİŞKENİ YAZIYOR ESKİ DEĞİŞKENE DOKUNMUYOR\n",
        "title_element = root.find('title')\n",
        "title_element.append(new_title_element1)\n",
        "\n",
        "# sub elemanı\n",
        "sub_element = root.find('sub')\n",
        "sub_element.append(new_sub_element2)\n",
        "\n",
        "#descrip elemanı\n",
        "descrip_element = root.find('descrip')\n",
        "descrip_element.append(new_descrip_element3)\n",
        "\n",
        "#creator elemanı\n",
        "creator_element = root.find('creator')\n",
        "creator_element.append(new_creator_element4)\n",
        "\n",
        "#license elemanı\n",
        "license_element = root.find('license')\n",
        "license_element.append(new_license_element5)\n",
        "\n",
        "#lang elemanı\n",
        "lang_element = root.find('lang')\n",
        "lang_element.append(new_lang_element6)\n",
        "\n",
        "#identifier elemanı\n",
        "identifier_element = root.find('identifier')\n",
        "identifier_element.append(new_identifier_element7)\n"
      ],
      "metadata": {
        "id": "tyrrM6IJeY-k"
      },
      "execution_count": null,
      "outputs": []
    },
    {
      "cell_type": "code",
      "source": [
        "#YAZDIRMA (KAYDETME) KISMI\n",
        "\n",
        "tree.write('kok.xml')"
      ],
      "metadata": {
        "id": "TkRLUWqGecXT"
      },
      "execution_count": null,
      "outputs": []
    },
    {
      "cell_type": "code",
      "source": [
        "#ARAMA YAPMA KISMI\n",
        "\n",
        "\n",
        "tree = ET.parse('kok.xml')\n",
        "root = tree.getroot()\n",
        "\n",
        "\n",
        "print(\"DERS BAŞLIKLARI: \\n\")\n",
        "# 'title' tag'ini bul\n",
        "title_eleman = root.find('title')\n",
        "\n",
        "# 'title' tag'i içindeki tüm 'a' tag'lerini bul ve içeriklerini yazdır\n",
        "sira = 0\n",
        "for a in title_eleman.findall('a'):\n",
        "  sira +=1\n",
        "  print(sira,\"-\" , a.text)\n",
        "\n",
        "secim= input(\"Hakkında bilgi almak istediğiniz dersin numarasını giriniz: \")\n",
        "print(\"\")\n",
        "liste = [\"Başlığı:\", \"Anahtar kelimeleri: \", \"Açıklama: \", \"Oluşturucu: \", \"Lisansı: \", \"Eğitim dili: \"]\n",
        "for i in range(6):\n",
        "  print(liste[i])\n",
        "  print(root[i][int(secim) - 1].text)\n",
        "  print(\"\")\n"
      ],
      "metadata": {
        "colab": {
          "base_uri": "https://localhost:8080/"
        },
        "id": "EfKWcEBaeeAK",
        "outputId": "a9c43a0d-3143-46f1-99c1-53a8fd107bbe"
      },
      "execution_count": null,
      "outputs": [
        {
          "output_type": "stream",
          "name": "stdout",
          "text": [
            "DERS BAŞLIKLARI: \n",
            "\n",
            "1 - açık erişim\n",
            "Hakkında bilgi almak istediğiniz dersin numarasını giriniz: 1\n",
            "\n",
            "Başlığı:\n",
            "açık erişim\n",
            "\n",
            "Anahtar kelimeleri: \n",
            "internet\n",
            "\n",
            "Açıklama: \n",
            "bu ders kapsamında açık erişim yollarını öğreneceksiniz\n",
            "\n",
            "Oluşturucu: \n",
            "Hacettepe\n",
            "\n",
            "Lisansı: \n",
            "MIT\n",
            "\n",
            "Eğitim dili: \n",
            "Türkçe\n",
            "\n"
          ]
        }
      ]
    }
  ]
}